{
  "nbformat": 4,
  "nbformat_minor": 0,
  "metadata": {
    "colab": {
      "name": "Busqueda_no_informada_1.ipynb",
      "provenance": []
    },
    "kernelspec": {
      "name": "python3",
      "display_name": "Python 3"
    },
    "language_info": {
      "name": "python"
    }
  },
  "cells": [
    {
      "cell_type": "code",
      "metadata": {
        "id": "9wMrxcx4O5TK"
      },
      "source": [
        "import numpy as np\n",
        "import networkx as nx"
      ],
      "execution_count": null,
      "outputs": []
    },
    {
      "cell_type": "code",
      "metadata": {
        "id": "gmAJLyATPbKi"
      },
      "source": [
        "ad_matrix = np.array(\n",
        "    [\n",
        "             [0,1,0,0,0,0,0,0,0,0,0,0,0,0,0],\n",
        "             [1,0,1,0,1,0,0,0,0,0,0,0,0,0,0],\n",
        "             [0,1,0,1,0,0,0,0,0,0,0,0,0,0,0],\n",
        "             [0,0,1,0,0,1,0,0,0,0,0,0,0,0,0],\n",
        "             [0,1,0,0,0,1,0,0,1,0,0,0,0,0,0],\n",
        "             [0,0,0,1,1,0,1,0,0,1,0,0,0,0,0],\n",
        "             [0,0,0,0,0,1,0,1,0,0,0,0,0,0,0],\n",
        "             [0,0,0,0,0,0,1,0,0,0,0,0,0,0,0],\n",
        "             [0,0,0,0,1,0,0,0,0,1,1,0,0,0,0],\n",
        "             [0,0,0,0,0,1,0,0,1,0,1,0,0,0,0],\n",
        "             [0,0,0,0,0,0,0,0,1,1,0,1,0,1,0],\n",
        "             [0,0,0,0,0,0,0,0,0,0,0,0,1,0,0],\n",
        "             [0,0,0,0,0,0,0,0,0,0,0,1,0,0,0],\n",
        "             [0,0,0,0,0,0,0,0,0,0,1,0,1,0,1],\n",
        "             [0,0,0,0,0,0,0,0,0,0,0,0,0,1,0]\n",
        "    ]\n",
        ") "
      ],
      "execution_count": null,
      "outputs": []
    },
    {
      "cell_type": "code",
      "metadata": {
        "id": "P_0MNvkwQQMl"
      },
      "source": [
        "ad_matrix"
      ],
      "execution_count": null,
      "outputs": []
    },
    {
      "cell_type": "code",
      "metadata": {
        "id": "piP02ymiQtuJ"
      },
      "source": [
        "labeldict = {}\n",
        "labeldict[0] = \"Estambul\"\n",
        "labeldict[1] = \"Bursa\"\n",
        "labeldict[2] = \"Balikesir\"\n",
        "labeldict[3] = \"Esmirna\"\n",
        "labeldict[4] = \"Eskisehir\"\n",
        "labeldict[5] = \"Afyonkarahisar\"\n",
        "labeldict[6] = \"Isparta\"\n",
        "labeldict[7] = \"Antalya\"\n",
        "labeldict[8] = \"Ankara\"\n",
        "labeldict[9] = \"Konya\"\n",
        "labeldict[10] = \"Kayseri\"\n",
        "labeldict[11] = \"Mersin\"\n",
        "labeldict[12] = \"Gazintep\"\n",
        "labeldict[13] = \"Malatya\"\n",
        "labeldict[14] = \"Erzurum\"\n"
      ],
      "execution_count": null,
      "outputs": []
    },
    {
      "cell_type": "code",
      "metadata": {
        "id": "9Dyrf9xsQtBK"
      },
      "source": [
        "labeldict"
      ],
      "execution_count": null,
      "outputs": []
    },
    {
      "cell_type": "code",
      "metadata": {
        "colab": {
          "base_uri": "https://localhost:8080/",
          "height": 318
        },
        "id": "Di8_2wlcQVyj",
        "outputId": "fb209a78-7b60-4b70-84fe-839fc28b3aa2"
      },
      "source": [
        "G = nx.from_numpy_array(ad_matrix)\n",
        "nx.draw(G, labels = labeldict, with_labels=1)"
      ],
      "execution_count": null,
      "outputs": [
        {
          "output_type": "display_data",
          "data": {
            "image/png": "[encoded data removed]",
            "text/plain": [
              "<Figure size 432x288 with 1 Axes>"
            ]
          },
          "metadata": {
            "tags": []
          }
        }
      ]
    },
    {
      "cell_type": "code",
      "metadata": {
        "id": "RnMN8IMLRcKt"
      },
      "source": [
        "origen = 1\n",
        "destino =8"
      ],
      "execution_count": null,
      "outputs": []
    },
    {
      "cell_type": "code",
      "metadata": {
        "colab": {
          "base_uri": "https://localhost:8080/"
        },
        "id": "lEVgUMXmR16e",
        "outputId": "1575fbee-9c73-40b0-c5a1-d82194f09fd4"
      },
      "source": [
        "nodo_2 = []\n",
        "nodos_ex = []\n",
        "\n",
        "nodos_ex.append(origen)\n",
        "print(origen, \" \", labeldict[origen])\n",
        "for i in range(15):\n",
        "  if ad_matrix[origen][i] == 1:\n",
        "    print(\" \", i, \" \", labeldict[i])\n",
        "    nodo_2.append(i)\n",
        "    nodos_ex.append(i)\n",
        "    if i == destino:\n",
        "      print(\"Has llegado a tu destino !!!!!!!\")\n"
      ],
      "execution_count": null,
      "outputs": [
        {
          "output_type": "stream",
          "text": [
            "1   Bursa\n",
            "  0   Estambul\n",
            "  2   Balikesir\n",
            "  4   Eskisehir\n"
          ],
          "name": "stdout"
        }
      ]
    },
    {
      "cell_type": "code",
      "metadata": {
        "colab": {
          "base_uri": "https://localhost:8080/"
        },
        "id": "JFjNym1uTB9h",
        "outputId": "d3a7b4a0-fb35-44aa-ebcf-514fc87fb919"
      },
      "source": [
        "nodos_ex"
      ],
      "execution_count": null,
      "outputs": [
        {
          "output_type": "execute_result",
          "data": {
            "text/plain": [
              "[1, 0, 2, 4]"
            ]
          },
          "metadata": {
            "tags": []
          },
          "execution_count": 78
        }
      ]
    },
    {
      "cell_type": "code",
      "metadata": {
        "id": "9K4P6tePU5ik"
      },
      "source": [
        "nodo_3 = []\n",
        "\n",
        "for j in nodo_2:\n",
        "  print(j, \" \", labeldict[j])\n",
        "  for i in range(15):\n",
        "    if ad_matrix[j][i] == 1:\n",
        "      if i not in nodos_ex:\n",
        "        print(\" \", i, \" \", labeldict[i])\n",
        "        nodo_3.append(i)\n",
        "        nodos_ex.append(i)\n",
        "        if i == destino:\n",
        "          print(\"Has llegado a \" , labeldict[i] , \", tu destino !!!!!!!\")"
      ],
      "execution_count": null,
      "outputs": []
    },
    {
      "cell_type": "code",
      "metadata": {
        "id": "hSm-271uWL-8"
      },
      "source": [
        "nodo_4 = []\n",
        "\n",
        "for j in nodo_3:\n",
        "  print(j, \" \", labeldict[j])\n",
        "  for i in range(15):\n",
        "    if ad_matrix[j][i] == 1:\n",
        "      if i not in nodos_ex:\n",
        "        print(\" \", i, \" \", labeldict[i])\n",
        "        nodo_4.append(i)\n",
        "        nodos_ex.append(i)\n",
        "        if i == destino:\n",
        "          print(\"Has llegado a tu destino !!!!!!!\")"
      ],
      "execution_count": null,
      "outputs": []
    },
    {
      "cell_type": "code",
      "metadata": {
        "id": "W9FddjSfWlwK"
      },
      "source": [
        "nodo_5 = []\n",
        "\n",
        "for j in nodo_4:\n",
        "  print(j, \" \", labeldict[j])\n",
        "  for i in range(15):\n",
        "    if ad_matrix[j][i] == 1:\n",
        "      if i not in nodos_ex:\n",
        "        print(\" \", i, \" \", labeldict[i])\n",
        "        nodo_5.append(i)\n",
        "        nodos_ex.append(i)\n",
        "        if i == destino:\n",
        "          print(\"Has llegado a tu destino !!!!!!!\")"
      ],
      "execution_count": null,
      "outputs": []
    },
    {
      "cell_type": "code",
      "metadata": {
        "id": "IUIsJKwUWsPC"
      },
      "source": [
        "nodo_6 = []\n",
        "\n",
        "for j in nodo_5:\n",
        "  print(j, \" \", labeldict[j])\n",
        "  for i in range(15):\n",
        "    if ad_matrix[j][i] == 1:\n",
        "      if i not in nodos_ex:\n",
        "        print(\" \", i, \" \", labeldict[i])\n",
        "        nodo_6.append(i)\n",
        "        nodos_ex.append(i)\n",
        "        if i == destino:\n",
        "          print(\"Has llegado a tu destino !!!!!!!\")"
      ],
      "execution_count": null,
      "outputs": []
    },
    {
      "cell_type": "code",
      "metadata": {
        "id": "WHvmq6M6XAAG"
      },
      "source": [
        "nodo_7 = []\n",
        "\n",
        "for j in nodo_6:\n",
        "  print(j, \" \", labeldict[j])\n",
        "  for i in range(15):\n",
        "    if ad_matrix[j][i] == 1:\n",
        "      if i not in nodos_ex:\n",
        "        print(\" \", i, \" \", labeldict[i])\n",
        "        nodo_7.append(i)\n",
        "        nodos_ex.append(i)\n",
        "        if i == destino:\n",
        "          print(\"Has llegado a tu destino !!!!!!!\")"
      ],
      "execution_count": null,
      "outputs": []
    }
  ]
}