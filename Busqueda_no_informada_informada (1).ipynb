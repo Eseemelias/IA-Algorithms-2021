{
  "nbformat": 4,
  "nbformat_minor": 0,
  "metadata": {
    "colab": {
      "name": "Busqueda no informada-informada",
      "provenance": [],
      "collapsed_sections": [
        "PXAXL00uFnm4"
      ]
    },
    "kernelspec": {
      "name": "python3",
      "display_name": "Python 3"
    }
  },
  "cells": [
    {
      "cell_type": "code",
      "metadata": {
        "id": "64pp3TsMADu1"
      },
      "source": [
        "import networkx as nx\n",
        "import numpy as np"
      ],
      "execution_count": null,
      "outputs": []
    },
    {
      "cell_type": "code",
      "metadata": {
        "id": "s51kr5628zfr"
      },
      "source": [
        "ad_matrix = np.array([\n",
        "             [0,1,0,0,0,0,0,0,0,0,0,0,0,0,0],\n",
        "             [1,0,1,0,1,0,0,0,0,0,0,0,0,0,0],\n",
        "             [0,1,0,1,0,0,0,0,0,0,0,0,0,0,0],\n",
        "             [0,0,1,0,0,1,0,0,0,0,0,0,0,0,0],\n",
        "             [0,1,0,0,0,1,0,0,1,0,0,0,0,0,0],\n",
        "             [0,0,0,1,1,0,1,0,0,1,0,0,0,0,0],\n",
        "             [0,0,0,0,0,1,0,1,0,0,0,0,0,0,0],\n",
        "             [0,0,0,0,0,0,1,0,0,0,0,0,0,0,0],\n",
        "             [0,0,0,0,1,0,0,0,0,1,1,0,0,0,0],\n",
        "             [0,0,0,0,0,1,0,0,1,0,1,0,0,0,0],\n",
        "             [0,0,0,0,0,0,0,0,1,1,0,1,0,1,0],\n",
        "             [0,0,0,0,0,0,0,0,0,0,0,0,1,0,0],\n",
        "             [0,0,0,0,0,0,0,0,0,0,0,1,0,1,0],\n",
        "             [0,0,0,0,0,0,0,0,0,0,1,0,1,0,1],\n",
        "             [0,0,0,0,0,0,0,0,0,0,0,0,0,1,0]\n",
        "             ]\n",
        "             )"
      ],
      "execution_count": null,
      "outputs": []
    },
    {
      "cell_type": "code",
      "metadata": {
        "id": "4EDKJeHvCSFQ"
      },
      "source": [
        "labeldict = {}\n",
        "labeldict[0] = \"Estambul\"\n",
        "labeldict[1] = \"Bursa\"\n",
        "labeldict[2] = \"Balikesir\"\n",
        "labeldict[3] = \"Esmirna\"\n",
        "labeldict[4] = \"Eskisehir\"\n",
        "labeldict[5] = \"Afyonkarahisar\"\n",
        "labeldict[6] = \"Isparta\"\n",
        "labeldict[7] = \"Antalya\"\n",
        "labeldict[8] = \"Ankara\"\n",
        "labeldict[9] = \"Konya\"\n",
        "labeldict[10] = \"Kayseri\"\n",
        "labeldict[11] = \"Mersin\"\n",
        "labeldict[12] = \"Gazintep\"\n",
        "labeldict[13] = \"Malatya\"\n",
        "labeldict[14] = \"Erzurum\"\n"
      ],
      "execution_count": null,
      "outputs": []
    },
    {
      "cell_type": "code",
      "metadata": {
        "id": "DQXEmgZ9BBj9",
        "colab": {
          "base_uri": "https://localhost:8080/",
          "height": 319
        },
        "outputId": "60359bc0-f852-4759-f8d3-c4345768d659"
      },
      "source": [
        "H = nx.from_numpy_array(ad_matrix)\n",
        "nx.draw(H, labels = labeldict, with_labels=1)"
      ],
      "execution_count": null,
      "outputs": [
        {
          "output_type": "display_data",
          "data": {
            "image/png": "[encoded data removed]",
            "text/plain": [
              "<Figure size 432x288 with 1 Axes>"
            ]
          },
          "metadata": {
            "tags": []
          }
        }
      ]
    },
    {
      "cell_type": "markdown",
      "metadata": {
        "id": "PXAXL00uFnm4"
      },
      "source": [
        "# Búsqueda Primero en Anchura"
      ]
    },
    {
      "cell_type": "code",
      "metadata": {
        "id": "0uKS2jSJJ06-",
        "colab": {
          "base_uri": "https://localhost:8080/",
          "height": 102
        },
        "outputId": "4ac0e77e-3e1d-4c26-d623-989c5f925d66"
      },
      "source": [
        "nodos_ex = []\n",
        "nodos_1 = []\n",
        "inicio = 5\n",
        "destino = 13\n",
        "\n",
        "print(inicio, \" \", labeldict[inicio]) \n",
        "for i in range(15):\n",
        "  if ad_matrix[inicio][i] == 1:\n",
        "    nodos_1.append(i)\n",
        "    nodos_ex.append(i)\n",
        "    print(\" \",i, \" \", labeldict[i])\n",
        "\n",
        "nodos_ex.append(inicio)"
      ],
      "execution_count": null,
      "outputs": [
        {
          "output_type": "stream",
          "text": [
            "5   Afyonkarahisar\n",
            "  3   Esmirna\n",
            "  4   Eskisehir\n",
            "  6   Isparta\n",
            "  9   Konya\n"
          ],
          "name": "stdout"
        }
      ]
    },
    {
      "cell_type": "code",
      "metadata": {
        "id": "Z52H1S6FNkSP",
        "colab": {
          "base_uri": "https://localhost:8080/",
          "height": 323
        },
        "outputId": "b2aa8cb3-d053-4b50-a670-a4d5a0e4e078"
      },
      "source": [
        "nodos_2 = []\n",
        "for j in nodos_1:\n",
        "  print(j, \" \", labeldict[j])\n",
        "  for i in range(15):\n",
        "    if ad_matrix[j][i] == 1:\n",
        "      if i not in nodos_ex:\n",
        "        nodos_2.append(i)\n",
        "        nodos_ex.append(i)\n",
        "      print(\" \",j, \" \", i,\" \", labeldict[i])\n",
        "      if i == destino:\n",
        "        print(\"--------- Hemos hallado una ruta a \", labeldict[i])\n",
        "  print()\n"
      ],
      "execution_count": null,
      "outputs": [
        {
          "output_type": "stream",
          "text": [
            "3   Esmirna\n",
            "  3   2   Balikesir\n",
            "  3   5   Afyonkarahisar\n",
            "\n",
            "4   Eskisehir\n",
            "  4   1   Bursa\n",
            "  4   5   Afyonkarahisar\n",
            "  4   8   Ankara\n",
            "\n",
            "6   Isparta\n",
            "  6   5   Afyonkarahisar\n",
            "  6   7   Antalya\n",
            "\n",
            "9   Konya\n",
            "  9   5   Afyonkarahisar\n",
            "  9   8   Ankara\n",
            "  9   10   Kayseri\n",
            "\n"
          ],
          "name": "stdout"
        }
      ]
    },
    {
      "cell_type": "code",
      "metadata": {
        "id": "Xo9qSLx0R1L_",
        "colab": {
          "base_uri": "https://localhost:8080/",
          "height": 425
        },
        "outputId": "f8d4104f-b7e5-4358-8a84-107a461b30c0"
      },
      "source": [
        "nodos_3 = []\n",
        "for j in nodos_2: \n",
        "  print(j, \" \", labeldict[j])\n",
        "  for i in range(15):\n",
        "    if ad_matrix[j][i] == 1:\n",
        "      if i not in nodos_ex:\n",
        "        nodos_3.append(i)\n",
        "        nodos_ex.append(i)\n",
        "      print(\" \", j, \" \", i,\" \", labeldict[i])\n",
        "      if i == destino:\n",
        "        print(\"--------- Hemos hallado una ruta a \", labeldict[i])\n",
        "  print()\n"
      ],
      "execution_count": null,
      "outputs": [
        {
          "output_type": "stream",
          "text": [
            "2   Balikesir\n",
            "  2   1   Bursa\n",
            "  2   3   Esmirna\n",
            "\n",
            "1   Bursa\n",
            "  1   0   Estambul\n",
            "  1   2   Balikesir\n",
            "  1   4   Eskisehir\n",
            "\n",
            "8   Ankara\n",
            "  8   4   Eskisehir\n",
            "  8   9   Konya\n",
            "  8   10   Kayseri\n",
            "\n",
            "7   Antalya\n",
            "  7   6   Isparta\n",
            "\n",
            "10   Kayseri\n",
            "  10   8   Ankara\n",
            "  10   9   Konya\n",
            "  10   11   Mersin\n",
            "  10   13   Malatya\n",
            "--------- Hemos hallado una ruta a  Malatya\n",
            "\n"
          ],
          "name": "stdout"
        }
      ]
    },
    {
      "cell_type": "code",
      "metadata": {
        "id": "KsC4TORjUR_X",
        "colab": {
          "base_uri": "https://localhost:8080/",
          "height": 204
        },
        "outputId": "19f0fc62-7450-4751-a437-f0694ace3f6a"
      },
      "source": [
        "nodos_4 = []\n",
        "for j in nodos_3: \n",
        "  print(j, \" \", labeldict[j])\n",
        "  for i in range(15):\n",
        "    if ad_matrix[j][i] == 1:\n",
        "      if i not in nodos_ex:\n",
        "        nodos_4.append(i)\n",
        "        nodos_ex.append(i)\n",
        "      print(\" \", j, \" \", i,\" \", labeldict[i])\n",
        "      if i == destino:\n",
        "        print(\"--------- Hemos hallado una ruta a \", labeldict[i])\n",
        "  print()"
      ],
      "execution_count": null,
      "outputs": [
        {
          "output_type": "stream",
          "text": [
            "0   Estambul\n",
            "  0   1   Bursa\n",
            "\n",
            "11   Mersin\n",
            "  11   12   Gazintep\n",
            "\n",
            "13   Malatya\n",
            "  13   10   Kayseri\n",
            "  13   12   Gazintep\n",
            "  13   14   Erzurum\n",
            "\n"
          ],
          "name": "stdout"
        }
      ]
    },
    {
      "cell_type": "code",
      "metadata": {
        "id": "dJD57yreUil7"
      },
      "source": [
        "nodos_5 = []\n",
        "for j in nodos_4: \n",
        "  print(j, \" \", labeldict[j])\n",
        "  for i in range(15):\n",
        "    if ad_matrix[j][i] == 1:\n",
        "      if i not in nodos_ex:\n",
        "        nodos_5.append(i)\n",
        "        nodos_ex.append(i)\n",
        "      print(\" \", j, \" \", i,\" \", labeldict[i])\n",
        "      if i == destino:\n",
        "        print(\"--------- Hemos hallado una ruta a \", labeldict[i])\n",
        "  print()"
      ],
      "execution_count": null,
      "outputs": []
    },
    {
      "cell_type": "code",
      "metadata": {
        "id": "JMxdlqLdU7dU"
      },
      "source": [
        "nodos_6 = []\n",
        "for j in nodos_5: \n",
        "  print(j, \" \", labeldict[j])\n",
        "  for i in range(15):\n",
        "    if ad_matrix[j][i] == 1:\n",
        "      if i not in nodos_ex:\n",
        "        nodos_6.append(i)\n",
        "        nodos_ex.append(i)\n",
        "      print(\" \", j, \" \", i,\" \", labeldict[i])\n",
        "      if i == inicio:\n",
        "        print(\"--------- Hemos hallado una ruta a \", labeldict[i])\n",
        "  print()"
      ],
      "execution_count": null,
      "outputs": []
    },
    {
      "cell_type": "markdown",
      "metadata": {
        "id": "Q6uTT26WFbgK"
      },
      "source": [
        "# Búsqueda Primero en Profundidad\n"
      ]
    },
    {
      "cell_type": "markdown",
      "metadata": {
        "id": "WzL5RfkuWASO"
      },
      "source": [
        "**Modo 1: Ciclos anidados**"
      ]
    },
    {
      "cell_type": "code",
      "metadata": {
        "id": "Wlv9afA5WbZE"
      },
      "source": [
        "inicio = 4\n",
        "destino = 10\n",
        "nodos_ex_p = []"
      ],
      "execution_count": null,
      "outputs": []
    },
    {
      "cell_type": "code",
      "metadata": {
        "id": "Xx_EfLQ4FzAo",
        "colab": {
          "base_uri": "https://localhost:8080/",
          "height": 289
        },
        "outputId": "a2423447-7954-4b94-d677-f5fe6c7987c9"
      },
      "source": [
        "print(inicio, \" \", labeldict[inicio])  # Mostrar el Nodo Inicial\n",
        "nodos_ex_p.append(inicio)\n",
        "for i in range(15):\n",
        "  if ad_matrix[inicio][i] == 1:\n",
        "    if i not in nodos_ex_p:\n",
        "      nodos_ex_p.append(i)\n",
        "      print(\"-\",i, labeldict[i])\n",
        "      if i == destino:\n",
        "        print(\"Hemos hallado una ruta a\", labeldict[i]);\n",
        "      for j in range(15):\n",
        "        if ad_matrix[i][j] == 1:\n",
        "          if j not in nodos_ex_p:\n",
        "            nodos_ex_p.append(j)\n",
        "            print(\"--\",j, labeldict[j])\n",
        "            if j == destino:\n",
        "              print(\"Hemos hallado una ruta a\", labeldict[j]);\n",
        "            for k in range(15):\n",
        "              if ad_matrix[j][k] == 1:\n",
        "                if k not in nodos_ex_p:\n",
        "                  nodos_ex_p.append(k)\n",
        "                  print(\"---\",k, labeldict[k])\n",
        "                  if k == destino:\n",
        "                    print(\"Hemos hallado una ruta a\", labeldict[k]);\n",
        "                  for l in range(15):\n",
        "                    if ad_matrix[k][l] == 1:\n",
        "                      if l not in nodos_ex_p:\n",
        "                        nodos_ex_p.append(l)\n",
        "                        print(\"----\",l, labeldict[l])\n",
        "                        if l == destino:\n",
        "                          print(\"Hemos hallado una ruta a\", labeldict[l]);\n",
        "                        for m in range(15):\n",
        "                          if ad_matrix[l][m] == 1:\n",
        "                            if m not in nodos_ex_p:\n",
        "                              nodos_ex_p.append(m)\n",
        "                              print(\"-----\",m, labeldict[m])\n",
        "                              if m == destino:\n",
        "                                print(\"Hemos hallado una ruta a\", labeldict[m]);\n",
        "                              for n in range(15):\n",
        "                                if ad_matrix[m][n] == 1:\n",
        "                                  if n not in nodos_ex_p:\n",
        "                                    nodos_ex_p.append(n)\n",
        "                                    print(\"------\",n, labeldict[n])\n",
        "                                    if n == destino:\n",
        "                                      print(\"Hemos hallado una ruta a\", labeldict[n]);\n",
        "                                    for o in range(15):\n",
        "                                      if ad_matrix[n][o] == 1:\n",
        "                                        if o not in nodos_ex_p:\n",
        "                                          nodos_ex_p.append(o)\n",
        "                                          print(\"-------\",o, labeldict[o])\n",
        "                                          if o == destino:\n",
        "                                            print(\"Hemos hallado una ruta a\", labeldict[o]);\n",
        "                                          for p in range(15):\n",
        "                                            if ad_matrix[o][p] == 1:\n",
        "                                              if p not in nodos_ex_p:\n",
        "                                                nodos_ex_p.append(p)\n",
        "                                                print(\"--------\",p, labeldict[p])\n",
        "                                                if p == destino:\n",
        "                                                  print(\"Hemos hallado una ruta a\", labeldict[p]);\n",
        "                                                for q in range(15):\n",
        "                                                  if ad_matrix[p][q] == 1:\n",
        "                                                    if q not in nodos_ex_p:\n",
        "                                                      nodos_ex_p.append(q)\n",
        "                                                      print(\"---------\",q, labeldict[q])\n",
        "                                                      if q == destino:\n",
        "                                                        print(\"Hemos hallado una ruta a\", labeldict[q]);\n",
        "                                                      for r in range(15):\n",
        "                                                        if ad_matrix[q][r] == 1:\n",
        "                                                          if r not in nodos_ex_p:\n",
        "                                                            nodos_ex_p.append(r)\n",
        "                                                            print(\"----------\",r, labeldict[r])\n",
        "                                                            if r == destino:\n",
        "                                                              print(\"Hemos hallado una ruta a\", labeldict[r]);\n",
        "                                                            for s in range(15):\n",
        "                                                              if ad_matrix[r][s] == 1:\n",
        "                                                                if s not in nodos_ex_p:\n",
        "                                                                  nodos_ex_p.append(s)\n",
        "                                                                  print(\"-----------\",s, labeldict[s])\n",
        "                                                                  if s == destino:\n",
        "                                                                    print(\"Hemos hallado una ruta a\", labeldict[s]);"
      ],
      "execution_count": null,
      "outputs": [
        {
          "output_type": "stream",
          "text": [
            "4   Eskisehir\n",
            "- 1 Bursa\n",
            "-- 0 Estambul\n",
            "-- 2 Balikesir\n",
            "--- 3 Esmirna\n",
            "---- 5 Afyonkarahisar\n",
            "----- 6 Isparta\n",
            "------ 7 Antalya\n",
            "----- 9 Konya\n",
            "------ 8 Ankara\n",
            "------- 10 Kayseri\n",
            "Hemos hallado una ruta a Kayseri\n",
            "-------- 11 Mersin\n",
            "--------- 12 Gazintep\n",
            "---------- 13 Malatya\n",
            "----------- 14 Erzurum\n"
          ],
          "name": "stdout"
        }
      ]
    },
    {
      "cell_type": "markdown",
      "metadata": {
        "id": "wRaz58-yWJHQ"
      },
      "source": [
        "**Modo 2: Llamadas Recursivas**"
      ]
    },
    {
      "cell_type": "code",
      "metadata": {
        "id": "PEV-7-hOO7eB"
      },
      "source": [
        "inicio = 4\n",
        "destino = 10\n",
        "calls = 0 # contador"
      ],
      "execution_count": null,
      "outputs": []
    },
    {
      "cell_type": "code",
      "metadata": {
        "id": "O6KQdfwpO-mA"
      },
      "source": [
        "def expandir (index, calls): #Funcion Recursiva\n",
        "  calls+=1 #Incrementar\n",
        "  for i in range(15): \n",
        "    if ad_matrix[index][i] == 1:\n",
        "      if i not in nodos_ex_p: #Si la ciudad vecina encontrada no ha sido expandida\n",
        "        nodos_ex_p.append(i) #Añando la ciudad a la lista de ciudades expandidas\n",
        "        for j in range(calls): #Añadir guiones que indican el nivel de expansión\n",
        "          print(\"-\", end=\"\")\n",
        "        print(i, labeldict[i]) #Muestro el nombre de la ciudad\n",
        "        if i == destino:\n",
        "          print(\"Hemos hallado una ruta a\", labeldict[i]) \n",
        "        else:\n",
        "          expandir(i, calls)"
      ],
      "execution_count": null,
      "outputs": []
    },
    {
      "cell_type": "code",
      "metadata": {
        "id": "NmYoYGO1PjDp",
        "colab": {
          "base_uri": "https://localhost:8080/",
          "height": 221
        },
        "outputId": "3f759b09-8c90-41c0-eca3-8063db707b75"
      },
      "source": [
        " nodos_ex_p = []\n",
        " \n",
        " print(inicio, labeldict[inicio]) #Imprimir ciudad inicial\n",
        " nodos_ex_p.append(inicio)        #Añado la ciudad inicial a la lista de ciudades expandidas\n",
        " for i in range(15):\n",
        "   calls = 0\n",
        "   expandir(inicio, calls)"
      ],
      "execution_count": null,
      "outputs": [
        {
          "output_type": "stream",
          "text": [
            "4 Eskisehir\n",
            "-1 Bursa\n",
            "--0 Estambul\n",
            "--2 Balikesir\n",
            "---3 Esmirna\n",
            "----5 Afyonkarahisar\n",
            "-----6 Isparta\n",
            "------7 Antalya\n",
            "-----9 Konya\n",
            "------8 Ankara\n",
            "-------10 Kayseri\n",
            "Hemos hallado una ruta a Kayseri\n"
          ],
          "name": "stdout"
        }
      ]
    },
    {
      "cell_type": "markdown",
      "metadata": {
        "id": "LwMq2v2mtHp3"
      },
      "source": [
        "# Búsqueda Informada\n"
      ]
    },
    {
      "cell_type": "code",
      "metadata": {
        "id": "iexSqbpL8Lp8"
      },
      "source": [
        "import math"
      ],
      "execution_count": null,
      "outputs": []
    },
    {
      "cell_type": "markdown",
      "metadata": {
        "id": "R_25dtMGbt7P"
      },
      "source": [
        "**Coordenadas Ciudades**"
      ]
    },
    {
      "cell_type": "code",
      "metadata": {
        "id": "D39lrzDCtgxH"
      },
      "source": [
        "coord = np.array([\n",
        "             [41.0122, 28.9760],\n",
        "             [40.1955, 29.0601],\n",
        "             [39.7408, 27.8191],\n",
        "             [38.4127, 27.1383],\n",
        "             [39.7712, 30.5135],\n",
        "             [38.7580, 30.5386],\n",
        "             [37.7666, 30.5478],\n",
        "             [36.9081, 30.6955],\n",
        "             [39.9272, 32.8644],\n",
        "             [37.8725, 32.4920],\n",
        "             [38.7211, 35.4846],\n",
        "             [36.8119, 34.6388],\n",
        "             [37.0657, 37.3772],\n",
        "             [38.3553, 38.3336],\n",
        "             [40.0630, 41.5669]\n",
        "             ]\n",
        "             )"
      ],
      "execution_count": null,
      "outputs": []
    },
    {
      "cell_type": "markdown",
      "metadata": {
        "id": "qV-mUdprb4Ov"
      },
      "source": [
        "**Función Cálculo de Distancias**"
      ]
    },
    {
      "cell_type": "code",
      "metadata": {
        "id": "ft1QjV2X2asI"
      },
      "source": [
        "def dist (index_1, index_2):\n",
        "  lat1 = math.radians(coord[index_1][0])\n",
        "  lat2 = math.radians(coord[index_2][0])\n",
        "  lon1 = math.radians(coord[index_1][1])\n",
        "  lon2 = math.radians(coord[index_2][1])\n",
        "\n",
        "  sin_lat1 = math.sin(lat1)\n",
        "  sin_lat2 = math.sin(lat2)\n",
        "  cos_lat1 = math.cos(lat1)\n",
        "  cos_lat2 = math.cos(lat2)\n",
        "  cos_l2_l1 = math.cos(lon2-lon1)\n",
        "\n",
        "  dg = math.acos(sin_lat1*sin_lat2 + cos_lat1*cos_lat2*cos_l2_l1)\n",
        "  d = 6378.137 * dg\n",
        "\n",
        "  return d\n"
      ],
      "execution_count": null,
      "outputs": []
    },
    {
      "cell_type": "code",
      "metadata": {
        "id": "VPKq_qQR93TI",
        "colab": {
          "base_uri": "https://localhost:8080/",
          "height": 34
        },
        "outputId": "2d4af7b3-decb-4d5c-f434-5bcf656951dc"
      },
      "source": [
        "dist(8,3)"
      ],
      "execution_count": null,
      "outputs": [
        {
          "output_type": "execute_result",
          "data": {
            "text/plain": [
              "522.029999828999"
            ]
          },
          "metadata": {
            "tags": []
          },
          "execution_count": 76
        }
      ]
    },
    {
      "cell_type": "code",
      "metadata": {
        "id": "mEE1ADuFFICM",
        "colab": {
          "base_uri": "https://localhost:8080/",
          "height": 272
        },
        "outputId": "8fbf633b-8e9c-4b7e-ff55-dce2515847f9"
      },
      "source": [
        "nodos_ex_m = []\n",
        "inicio = 0\n",
        "destino = 11\n",
        "\n",
        "distances = []\n",
        "\n",
        "for i in range(15):\n",
        "  distances.append(dist(i,destino))\n",
        "\n",
        "distances"
      ],
      "execution_count": null,
      "outputs": [
        {
          "output_type": "execute_result",
          "data": {
            "text/plain": [
              "[677.3674069814186,\n",
              " 614.6437923685584,\n",
              " 679.0441993773281,\n",
              " 684.7716191727474,\n",
              " 488.18988695998627,\n",
              " 420.7130412323383,\n",
              " 377.54390331653747,\n",
              " 351.356586371955,\n",
              " 379.7776341293465,\n",
              " 223.68186460667343,\n",
              " 225.18403789567537,\n",
              " 0.0,\n",
              " 245.2734412667498,\n",
              " 368.4104108805032,\n",
              " 703.8872297786135]"
            ]
          },
          "metadata": {
            "tags": []
          },
          "execution_count": 77
        }
      ]
    },
    {
      "cell_type": "code",
      "metadata": {
        "id": "TBh1yYkVSw9f"
      },
      "source": [
        "def expandir_i (index, calls):\n",
        "  calls+=1\n",
        "  min = 99999999\n",
        "  next_index = index\n",
        "\n",
        "  for i in range(15):\n",
        "    if ad_matrix[index][i] == 1:\n",
        "      if i not in nodos_ex_m:\n",
        "        print(\"Posible ruta: \", labeldict[i], \". Distancia a destino: \", distances[i])\n",
        "        if distances[i] < min:\n",
        "          min = distances[i]\n",
        "          next_index = i\n",
        "  \n",
        "  if next_index not in nodos_ex_m: \n",
        "    print(\"Ruta escogida: \",labeldict[next_index])        \n",
        "    nodos_ex_m.append(next_index)\n",
        "    for j in range(calls):\n",
        "      print(\"-\", end=\"\") #Añadir guiones\n",
        "    print(next_index, labeldict[next_index])\n",
        "    if next_index == destino:\n",
        "      print(\"Hemos hallado una ruta a\", labeldict[destino])\n",
        "    else:\n",
        "      expandir_i(next_index, calls)\n"
      ],
      "execution_count": null,
      "outputs": []
    },
    {
      "cell_type": "code",
      "metadata": {
        "id": "nuguKZEMSwzl"
      },
      "source": [
        "inicio = 8\n",
        "destino = 11\n",
        "calls = 0"
      ],
      "execution_count": null,
      "outputs": []
    },
    {
      "cell_type": "code",
      "metadata": {
        "id": "EOwG_YAuSw9o"
      },
      "source": [
        "nodos_ex_m = []\n",
        " \n",
        "distances = []\n",
        "\n",
        "print(\"|||||||||||| Calculando ruta desde \", labeldict[inicio], \"hacia \", labeldict[destino], \"||||||||||||||||\")\n",
        "print()\n",
        "\n",
        "for i in range(15):\n",
        "  distances.append(dist(i,destino))\n",
        "\n",
        "print(inicio, labeldict[inicio])\n",
        "nodos_ex_m.append(inicio)\n",
        "calls = 0\n",
        "expandir_i(inicio, calls)"
      ],
      "execution_count": null,
      "outputs": []
    },
    {
      "cell_type": "code",
      "metadata": {
        "id": "OfMuG7p93O9F",
        "colab": {
          "base_uri": "https://localhost:8080/",
          "height": 34
        },
        "outputId": "f3da9d3f-8054-4fd2-9241-b1e2b5772eea"
      },
      "source": [
        "dist(2,9) + dist(1,2)"
      ],
      "execution_count": null,
      "outputs": [
        {
          "output_type": "execute_result",
          "data": {
            "text/plain": [
              "572.8680213526728"
            ]
          },
          "metadata": {
            "tags": []
          },
          "execution_count": 87
        }
      ]
    }
  ]
}